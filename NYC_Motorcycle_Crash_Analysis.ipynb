{
 "cells": [
  {
   "cell_type": "markdown",
   "metadata": {},
   "source": [
    "Predictive Model for Motorcycle Accidents:  to Insurance Premiums and Intersection Safety  (January 2020 - October 2024)\n",
    "\n",
    "Version 0.1.1\n",
    "#New Changes:\n",
    "    -Finished the process of data cleaning for motorcycle.people\n",
    "    -Created NYC_Motorcycle_Crash_Analysis.ipynb\n",
    "    -Added file to StudyRepo\n",
    "\n"
   ]
  },
  {
   "cell_type": "markdown",
   "metadata": {},
   "source": [
    "Project Overview:\n",
    "\n",
    "This report outlines a predictive model designed to determine motorcycle accident risk across NYC, based on intersection characteristics, finding patterns within individual characteristics, accident concentration by zip code, and commonalities among high risk areas. \n",
    "\n",
    "Our Goal: \n",
    "\n",
    "The model aims to aid insurance companies in adjusting premiums for high risk profiles and areas as well as provide government agencies with actionable data to improve traffic safety. \n",
    "\n",
    "We plan on doing so by analyzing historical accident data from the last 4 years, traffic patterns, and intersection structures. The predictive model will identify high risk areas and attempt to predict future accidents within a certain margin of error. \n",
    "\n",
    "Actionable Insights: \n",
    "\n",
    "Insurance policies could adjust premiums for high risk zip codes, while government agencies may enhance road safety measures, such as speed cameras and street widening, in these areas. \n",
    "\n",
    "Methodology: \n",
    "\n",
    "We plan on using a combination of a few programming languages to achieve our goal, we will be indicating when we use a specific one. \n",
    "\n",
    "We will be using SQL, and more specifically the RDBSMs Google's BigQuery and MySQL to retrieve and clean data. \n",
    "\n",
    "We will be using R to help with complex statistical analysis on the cleaned dataset. \n",
    "\n",
    "We will be using Python to be tying all the parts of the project together as well as for some extra analysis and regression."
   ]
  },
  {
   "cell_type": "markdown",
   "metadata": {},
   "source": [
    "Data Collection:\n",
    "\n",
    "To get our dataset we looked on the NYC public data in order to find the motorcycle accident data. "
   ]
  },
  {
   "cell_type": "code",
   "execution_count": null,
   "metadata": {
    "vscode": {
     "languageId": "sql"
    }
   },
   "outputs": [],
   "source": [
    "--SQL (BigQuery)\n",
    "SELECT \n",
    "  COUNT(DISTINCT COLLISION_ID) AS number_of_collisions, \n",
    "  LEAST(TRIM(UPPER(`ON STREET NAME`)), TRIM(UPPER(`CROSS STREET NAME`))) AS primary_street_name,\n",
    "  GREATEST(TRIM(UPPER(`ON STREET NAME`)), TRIM(UPPER(`CROSS STREET NAME`))) AS secondary_street_name,\n",
    "  (SELECT COUNT (*) \n",
    "  FROM `ferrous-thought-409502.insurance.motorcycle` \n",
    "  ) AS total_accidents\n",
    "FROM \n",
    "  `ferrous-thought-409502.insurance.motorcycle`\n",
    "WHERE\n",
    "  BOROUGH IS NOT NULL\n",
    "  AND `ZIP CODE` IS NOT NULL\n",
    "  AND `ZIP CODE` >10000\n",
    "  AND LATITUDE IS NOT NULL\n",
    "  AND LONGITUDE IS NOT NULL\n",
    "  AND `ON STREET NAME` IS NOT NULL\n",
    "  AND `CROSS STREET NAME` IS NOT NULL\n",
    "  AND TRIM(UPPER(`ON STREET NAME`)) <> ''\n",
    "  AND TRIM(UPPER(`CROSS STREET NAME`)) <> ''\n",
    "  AND TRIM(UPPER(`CROSS STREET NAME`)) <> TRIM(UPPER(`ON STREET NAME`))\n",
    "  AND TRIM(UPPER(`ON STREET NAME`)) <> TRIM(UPPER(`CROSS STREET NAME`))\n",
    "\n",
    "GROUP BY\n",
    "  LEAST(TRIM(UPPER(`ON STREET NAME`)), TRIM(UPPER(`CROSS STREET NAME`))), \n",
    "  GREATEST(TRIM(UPPER(`ON STREET NAME`)), TRIM(UPPER(`CROSS STREET NAME`)))\n",
    "ORDER BY\n",
    "  COUNT(DISTINCT COLLISION_ID) DESC\n"
   ]
  }
 ],
 "metadata": {
  "language_info": {
   "name": "python"
  }
 },
 "nbformat": 4,
 "nbformat_minor": 2
}
