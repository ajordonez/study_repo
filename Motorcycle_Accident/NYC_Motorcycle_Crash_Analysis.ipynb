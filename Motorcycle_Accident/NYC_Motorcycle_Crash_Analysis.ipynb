{
 "cells": [
  {
   "cell_type": "markdown",
   "metadata": {},
   "source": [
    "# Predictive Model for Motorcycle Accidents:  to Insurance Premiums and Intersection Safety  (January 2020 - October 2024)\n",
    "\n",
    "**Version 0.1.2**\n",
    "#New Changes:\n",
    "    -Added section: Data Cleaning\n",
    "    -Updated queries for collision with full query\n",
    "    -Added new queries to Data Cleaning\n",
    "\n"
   ]
  },
  {
   "cell_type": "markdown",
   "metadata": {},
   "source": [
    "### **Project Overview**:\n",
    "\n",
    "This report outlines a predictive model designed to determine motorcycle accident risk across NYC, based on intersection characteristics, finding patterns within individual characteristics, accident concentration by zip code, and commonalities among high risk areas. \n",
    "\n",
    "**Our Goal**: \n",
    "\n",
    "The model aims to aid insurance companies in adjusting premiums for high risk profiles and areas as well as provide government agencies with actionable data to improve traffic safety. \n",
    "\n",
    "We plan on doing so by analyzing historical accident data from the last 4 years, traffic patterns, and intersection structures. The predictive model will identify high risk areas and attempt to predict future accidents within a certain margin of error. \n",
    "\n",
    "**Actionable Insights**: \n",
    "\n",
    "Insurance policies could adjust premiums for high risk zip codes, while government agencies may enhance road safety measures, such as speed cameras and street widening, in these areas. \n",
    "\n",
    "**Methodology**: \n",
    "\n",
    "We plan on using a combination of a few programming languages to achieve our goal, we will be indicating when we use a specific one. \n",
    "\n",
    "We will be using SQL, and more specifically Google's RDBMS BigQuery and MySQL to retrieve and clean data. \n",
    "\n",
    "We will be using R to help with complex statistical analysis on the cleaned dataset. \n",
    "\n",
    "We will be using Python to be tying all the parts of the project together as well as for some extra analysis and regression."
   ]
  },
  {
   "cell_type": "markdown",
   "metadata": {},
   "source": [
    "# Data Collection:\n",
    "\n",
    "To get our dataset we looked on the NYC public data in order to find the motorcycle accident data. \n",
    "\n",
    "We used this table for the personal profiles: https://data.cityofnewyork.us/Public-Safety/Motor-Vehicle-Collisions-Person/f55k-p6yu/about_data\n",
    "\n",
    "We used this table for the collision in the intersection: https://data.cityofnewyork.us/Public-Safety/Motor-Vehicle-Collisions-Crashes/h9gi-nx95/about_data\n",
    "\n",
    "We used this table for the specific vehicles in the crashes: https://data.cityofnewyork.us/Public-Safety/Motor-Vehicle-Collisions-Vehicles/bm4k-52h4/about_data\n",
    "\n",
    "All of the data that we have collected will be stored into Google Cloud and we will use Google's BigQuery in order to query the data. \n",
    "\n",
    "Note: As of now, our data goes from January 1st 2020 to November 1st 2024. As the new year comes around, we will update the data so that it comprises all of 2020 to 2024 (including November and December of this year).\n",
    "\n",
    "##^EDITORS NOTE USE INNER JOIN TO JOIN ANY MOTORCYCLE DATA"
   ]
  },
  {
   "cell_type": "markdown",
   "metadata": {},
   "source": [
    "### Data Cleaning\n",
    "\n",
    "Using BigQuery, we can use Structured Query Language (SQL) in order to query and clean our data. We will begin with the personal profiles table. \n"
   ]
  },
  {
   "cell_type": "code",
   "execution_count": null,
   "metadata": {
    "vscode": {
     "languageId": "sql"
    }
   },
   "outputs": [],
   "source": [
    "--SQL (BigQuery)\n",
    "SELECT\n",
    "  *\n",
    "FROM\n",
    "  `ferrous-thought-409502.insurance.people`\n",
    "WHERE\n",
    "  (CRASH_DATE BETWEEN '2020-01-01' AND '2024-10-01') \n",
    "  AND (PERSON_AGE IS NOT NULL \n",
    "  OR (PERSON_AGE >0 AND PERSON_AGE <150)) \n",
    "  AND PERSON_SEX IS NOT NULL\n"
   ]
  },
  {
   "cell_type": "markdown",
   "metadata": {},
   "source": [
    "In order to get the aggregrated intersections which have the most amount of accidents, we will have to dive deeper. The following query will clean, aggregate, and display the intersections with the most amount of collisions.\n",
    "\n",
    "We will also have an additional column that displays the total number of collisions as well as getting the latitude and longitude for each collision, this will help us when displaying our results. "
   ]
  },
  {
   "cell_type": "code",
   "execution_count": null,
   "metadata": {
    "vscode": {
     "languageId": "sql"
    }
   },
   "outputs": [],
   "source": [
    "--SQL (BigQuery)\n",
    "SELECT \n",
    "  COUNT(DISTINCT COLLISION_ID) AS number_of_collisions, \n",
    "  LEAST(TRIM(UPPER(`ON STREET NAME`)), TRIM(UPPER(`CROSS STREET NAME`))) AS primary_street_name,\n",
    "  GREATEST(TRIM(UPPER(`ON STREET NAME`)), TRIM(UPPER(`CROSS STREET NAME`))) AS secondary_street_name,\n",
    "  LATITUDE as latitude,\n",
    "  LONGITUDE as longitude,\n",
    "  (SELECT COUNT (*) \n",
    "  FROM `ferrous-thought-409502.insurance.motorcycle` \n",
    "  ) AS total_accidents\n",
    "FROM \n",
    "  `ferrous-thought-409502.insurance.motorcycle`\n",
    "WHERE\n",
    "  `CRASH DATE` BETWEEN '2020-01-01' AND '2024-11-01'\n",
    "  AND BOROUGH IS NOT NULL\n",
    "  AND `ZIP CODE` IS NOT NULL\n",
    "  AND `ZIP CODE` >10000\n",
    "  AND LATITUDE IS NOT NULL\n",
    "  AND LONGITUDE IS NOT NULL\n",
    "  AND `ON STREET NAME` IS NOT NULL\n",
    "  AND `CROSS STREET NAME` IS NOT NULL\n",
    "  AND TRIM(UPPER(`ON STREET NAME`)) <> ''\n",
    "  AND TRIM(UPPER(`CROSS STREET NAME`)) <> ''\n",
    "  AND TRIM(UPPER(`CROSS STREET NAME`)) <> TRIM(UPPER(`ON STREET NAME`))\n",
    "  AND TRIM(UPPER(`ON STREET NAME`)) <> TRIM(UPPER(`CROSS STREET NAME`))\n",
    "\n",
    "GROUP BY\n",
    "  LEAST(TRIM(UPPER(`ON STREET NAME`)), TRIM(UPPER(`CROSS STREET NAME`))), \n",
    "  GREATEST(TRIM(UPPER(`ON STREET NAME`)), TRIM(UPPER(`CROSS STREET NAME`))),\n",
    "  LATITUDE,\n",
    "  LONGITUDE\n",
    "ORDER BY\n",
    "  COUNT(DISTINCT COLLISION_ID) DESC"
   ]
  }
 ],
 "metadata": {
  "language_info": {
   "name": "python"
  }
 },
 "nbformat": 4,
 "nbformat_minor": 2
}
