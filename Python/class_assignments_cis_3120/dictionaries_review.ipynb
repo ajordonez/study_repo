{
  "cells": [
    {
      "cell_type": "code",
      "execution_count": 2,
      "metadata": {
        "id": "051BxEPlil1Q"
      },
      "outputs": [],
      "source": [
        "# Create a dictionary which contain the scores of 5 students\n",
        "\n",
        "scores = {\n",
        "    'Bob': 100,\n",
        "    'Lisa': 200,\n",
        "    'Alex': 300,\n",
        "    'Mike': 600,\n",
        "    'Sue': 1000\n",
        "}\n"
      ]
    },
    {
      "cell_type": "markdown",
      "metadata": {
        "id": "PJ388fl4kAmw"
      },
      "source": [
        "Accessing Keys from the Dictionary"
      ]
    },
    {
      "cell_type": "code",
      "execution_count": null,
      "metadata": {
        "colab": {
          "base_uri": "https://localhost:8080/"
        },
        "id": "MUd30ySSji-y",
        "outputId": "855fe75e-7e6d-4b44-bff3-32168eca3ab4"
      },
      "outputs": [
        {
          "data": {
            "text/plain": [
              "200"
            ]
          },
          "execution_count": 2,
          "metadata": {},
          "output_type": "execute_result"
        }
      ],
      "source": [
        "scores['Lisa']"
      ]
    },
    {
      "cell_type": "code",
      "execution_count": null,
      "metadata": {
        "colab": {
          "base_uri": "https://localhost:8080/"
        },
        "id": "PaSYwWZ-jGxX",
        "outputId": "22c7c920-e721-4c32-ff98-700c13df2675"
      },
      "outputs": [
        {
          "data": {
            "text/plain": [
              "100"
            ]
          },
          "execution_count": 3,
          "metadata": {},
          "output_type": "execute_result"
        }
      ],
      "source": [
        "scores['Bob']"
      ]
    },
    {
      "cell_type": "code",
      "execution_count": null,
      "metadata": {
        "colab": {
          "base_uri": "https://localhost:8080/",
          "height": 35
        },
        "id": "YP-djga-jn-K",
        "outputId": "e65bf78f-dd22-4b71-bf30-3333a42f8e75"
      },
      "outputs": [
        {
          "data": {
            "application/vnd.google.colaboratory.intrinsic+json": {
              "type": "string"
            },
            "text/plain": [
              "'Not Available'"
            ]
          },
          "execution_count": 4,
          "metadata": {},
          "output_type": "execute_result"
        }
      ],
      "source": [
        "scores.get('Liz', 'Not Available')"
      ]
    },
    {
      "cell_type": "markdown",
      "metadata": {
        "id": "W45IxKe5kU8N"
      },
      "source": [
        "Updating data in the dictionary"
      ]
    },
    {
      "cell_type": "code",
      "execution_count": null,
      "metadata": {
        "id": "CmjpXraQjRGi"
      },
      "outputs": [],
      "source": [
        "scores['Lisa'] = 800"
      ]
    },
    {
      "cell_type": "code",
      "execution_count": null,
      "metadata": {
        "colab": {
          "base_uri": "https://localhost:8080/"
        },
        "id": "C7Ip2W6ikNFN",
        "outputId": "f571c2c5-9337-4d12-c3bf-47a0869e50d3"
      },
      "outputs": [
        {
          "data": {
            "text/plain": [
              "800"
            ]
          },
          "execution_count": 6,
          "metadata": {},
          "output_type": "execute_result"
        }
      ],
      "source": [
        "scores['Lisa']"
      ]
    },
    {
      "cell_type": "code",
      "execution_count": null,
      "metadata": {
        "colab": {
          "base_uri": "https://localhost:8080/"
        },
        "id": "ZNRNtTTfkOAs",
        "outputId": "9df968c2-1970-465f-a195-428bdc199b44"
      },
      "outputs": [
        {
          "name": "stdout",
          "output_type": "stream",
          "text": [
            "{'Bob': 100, 'Lisa': 800, 'Alex': 300, 'Mike': 600, 'Sue': 1000}\n"
          ]
        }
      ],
      "source": [
        "print(scores)"
      ]
    },
    {
      "cell_type": "markdown",
      "metadata": {
        "id": "L25PkyWekYkW"
      },
      "source": [
        "Deleting a key,value pair in a dictionary"
      ]
    },
    {
      "cell_type": "code",
      "execution_count": null,
      "metadata": {
        "id": "vxLN6ctskPdE"
      },
      "outputs": [],
      "source": [
        "del scores['Mike']"
      ]
    },
    {
      "cell_type": "code",
      "execution_count": null,
      "metadata": {
        "colab": {
          "base_uri": "https://localhost:8080/"
        },
        "id": "woKi28lgkqcu",
        "outputId": "f99af8b0-73fe-4e8d-c02c-fc8a68cb8e2e"
      },
      "outputs": [
        {
          "data": {
            "text/plain": [
              "{'Bob': 100, 'Lisa': 800, 'Alex': 300, 'Sue': 1000}"
            ]
          },
          "execution_count": 9,
          "metadata": {},
          "output_type": "execute_result"
        }
      ],
      "source": [
        "scores"
      ]
    },
    {
      "cell_type": "code",
      "execution_count": null,
      "metadata": {
        "colab": {
          "base_uri": "https://localhost:8080/",
          "height": 144
        },
        "id": "pP1eJJ3elorp",
        "outputId": "17b5e39a-9e71-4b29-a7c5-eaaa03a2d11c"
      },
      "outputs": [
        {
          "ename": "KeyError",
          "evalue": "'Avinash'",
          "output_type": "error",
          "traceback": [
            "\u001b[0;31m---------------------------------------------------------------------------\u001b[0m",
            "\u001b[0;31mKeyError\u001b[0m                                  Traceback (most recent call last)",
            "\u001b[0;32m<ipython-input-10-a221bdab7f1f>\u001b[0m in \u001b[0;36m<cell line: 0>\u001b[0;34m()\u001b[0m\n\u001b[0;32m----> 1\u001b[0;31m \u001b[0mscores\u001b[0m\u001b[0;34m[\u001b[0m\u001b[0;34m'Avinash'\u001b[0m\u001b[0;34m]\u001b[0m\u001b[0;34m\u001b[0m\u001b[0;34m\u001b[0m\u001b[0m\n\u001b[0m",
            "\u001b[0;31mKeyError\u001b[0m: 'Avinash'"
          ]
        }
      ],
      "source": [
        "scores['Avinash']"
      ]
    },
    {
      "cell_type": "code",
      "execution_count": null,
      "metadata": {
        "colab": {
          "base_uri": "https://localhost:8080/",
          "height": 35
        },
        "id": "W-j0NzjxkrJe",
        "outputId": "e4cb78a2-d9f7-40fb-a61f-a2990c21b8a1"
      },
      "outputs": [
        {
          "data": {
            "application/vnd.google.colaboratory.intrinsic+json": {
              "type": "string"
            },
            "text/plain": [
              "'Name not found'"
            ]
          },
          "execution_count": 11,
          "metadata": {},
          "output_type": "execute_result"
        }
      ],
      "source": [
        "scores.get('Avinash', 'Name not found')"
      ]
    },
    {
      "cell_type": "markdown",
      "metadata": {
        "id": "tuc2H98PlxVc"
      },
      "source": [
        "Adding a record to a dictionary"
      ]
    },
    {
      "cell_type": "code",
      "execution_count": null,
      "metadata": {
        "id": "f45m8TealQ0Z"
      },
      "outputs": [],
      "source": [
        "scores['Avinash'] = 500"
      ]
    },
    {
      "cell_type": "code",
      "execution_count": null,
      "metadata": {
        "colab": {
          "base_uri": "https://localhost:8080/"
        },
        "id": "iFRQYtyNl3Q6",
        "outputId": "ce25a6f8-3504-4d7a-f04c-cd2c302ed195"
      },
      "outputs": [
        {
          "data": {
            "text/plain": [
              "{'Bob': 100, 'Lisa': 800, 'Alex': 300, 'Sue': 1000, 'Avinash': 500}"
            ]
          },
          "execution_count": 13,
          "metadata": {},
          "output_type": "execute_result"
        }
      ],
      "source": [
        "scores"
      ]
    },
    {
      "cell_type": "markdown",
      "metadata": {
        "id": "uoJ1LwcrmPij"
      },
      "source": [
        "Iterating Through a Dictionary"
      ]
    },
    {
      "cell_type": "code",
      "execution_count": null,
      "metadata": {
        "colab": {
          "base_uri": "https://localhost:8080/"
        },
        "id": "rNR0Dw7-l5iM",
        "outputId": "52896c05-3707-4581-8fbf-af44da1ba81f"
      },
      "outputs": [
        {
          "name": "stdout",
          "output_type": "stream",
          "text": [
            "Bob 100\n",
            "Lisa 800\n",
            "Alex 300\n",
            "Sue 1000\n",
            "Avinash 500\n"
          ]
        }
      ],
      "source": [
        "# Method #1\n",
        "for key in scores:\n",
        "  print(key, scores[key])"
      ]
    },
    {
      "cell_type": "code",
      "execution_count": null,
      "metadata": {
        "colab": {
          "base_uri": "https://localhost:8080/"
        },
        "id": "11iikBUenjQH",
        "outputId": "d8596c9e-78d6-4f01-dccb-7f8a9755c513"
      },
      "outputs": [
        {
          "data": {
            "text/plain": [
              "{'Bob': 100, 'Lisa': 800, 'Alex': 300, 'Sue': 1000, 'Avinash': 500}"
            ]
          },
          "execution_count": 17,
          "metadata": {},
          "output_type": "execute_result"
        }
      ],
      "source": [
        "scores"
      ]
    },
    {
      "cell_type": "code",
      "execution_count": null,
      "metadata": {
        "colab": {
          "base_uri": "https://localhost:8080/"
        },
        "id": "uuBjzliymZs8",
        "outputId": "670350b8-f3a3-4e0c-8ae1-3437a58b9332"
      },
      "outputs": [
        {
          "name": "stdout",
          "output_type": "stream",
          "text": [
            "Bob: 100\n",
            "Lisa: 800\n",
            "Alex: 300\n",
            "Sue: 1000\n",
            "Avinash: 500\n"
          ]
        }
      ],
      "source": [
        "# Method # 2\n",
        "for key, value in scores.items():\n",
        "  print(f'{key}: {value}')\n",
        "\n"
      ]
    },
    {
      "cell_type": "code",
      "execution_count": 7,
      "metadata": {
        "colab": {
          "base_uri": "https://localhost:8080/"
        },
        "id": "U9j7uugBng4g",
        "outputId": "9333db31-9fd3-4ab3-b67e-b305bc41f3b5"
      },
      "outputs": [
        {
          "name": "stdout",
          "output_type": "stream",
          "text": [
            "Bob\n",
            "Lisa\n",
            "Alex\n",
            "Mike\n",
            "Sue\n"
          ]
        }
      ],
      "source": [
        "# Printing all of the keys in the dictionary\n",
        "for keys in scores.keys():\n",
        "  print(keys)"
      ]
    },
    {
      "cell_type": "code",
      "execution_count": 6,
      "metadata": {
        "id": "AeGQiuHnn23-"
      },
      "outputs": [
        {
          "name": "stdout",
          "output_type": "stream",
          "text": [
            "Bob 100\n",
            "Lisa 200\n",
            "Alex 300\n",
            "Mike 600\n",
            "Sue 1000\n"
          ]
        }
      ],
      "source": [
        "for x in scores.items():\n",
        "    print(x[0], x[1])"
      ]
    },
    {
      "cell_type": "code",
      "execution_count": 8,
      "metadata": {},
      "outputs": [],
      "source": [
        "#Inseting a new key value pair into the dictionary\n",
        "scores.update({\"Avinash\": 1000})"
      ]
    },
    {
      "cell_type": "code",
      "execution_count": null,
      "metadata": {},
      "outputs": [],
      "source": [
        "#Remove a value from the dictionary\n",
        "del scores[\"Mike\"]\n",
        "scores.pop(\"Avinash\")"
      ]
    },
    {
      "cell_type": "code",
      "execution_count": 11,
      "metadata": {},
      "outputs": [],
      "source": [
        "sat_scores = {\n",
        "    \"Bob\": [800,700,600],\n",
        "    \"Lisa\": [800,700,600],\n",
        "    \"Alex\": [650,700,800],\n",
        "    \"Mike\": [700,500,300],\n",
        "    \"Sue\": [800,750,770]\n",
        "\n",
        "}"
      ]
    },
    {
      "cell_type": "code",
      "execution_count": 13,
      "metadata": {},
      "outputs": [
        {
          "name": "stdout",
          "output_type": "stream",
          "text": [
            "678.0\n"
          ]
        }
      ],
      "source": [
        "all_scores = []\n",
        "for key, value in sat_scores.items():\n",
        "    all_scores += sat_scores[key]\n",
        "\n",
        "avg = sum(all_scores)/len(all_scores)\n",
        "print(avg)"
      ]
    }
  ],
  "metadata": {
    "colab": {
      "provenance": []
    },
    "kernelspec": {
      "display_name": "Python 3",
      "name": "python3"
    },
    "language_info": {
      "codemirror_mode": {
        "name": "ipython",
        "version": 3
      },
      "file_extension": ".py",
      "mimetype": "text/x-python",
      "name": "python",
      "nbconvert_exporter": "python",
      "pygments_lexer": "ipython3",
      "version": "3.9.6"
    }
  },
  "nbformat": 4,
  "nbformat_minor": 0
}
